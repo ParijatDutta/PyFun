{
  "nbformat": 4,
  "nbformat_minor": 0,
  "metadata": {
    "colab": {
      "name": "i485Schedule.ipynb",
      "provenance": [],
      "collapsed_sections": [],
      "authorship_tag": "ABX9TyMDMZlRiNtvIN/RKP2G/ohO",
      "include_colab_link": true
    },
    "kernelspec": {
      "name": "python3",
      "display_name": "Python 3"
    },
    "language_info": {
      "name": "python"
    }
  },
  "cells": [
    {
      "cell_type": "markdown",
      "metadata": {
        "id": "view-in-github",
        "colab_type": "text"
      },
      "source": [
        "<a href=\"https://colab.research.google.com/github/ParijatDutta/PyFun/blob/main/i485Schedule.ipynb\" target=\"_parent\"><img src=\"https://colab.research.google.com/assets/colab-badge.svg\" alt=\"Open In Colab\"/></a>"
      ]
    },
    {
      "cell_type": "code",
      "metadata": {
        "id": "fbABMZ-ybpfy"
      },
      "source": [
        "#!pip install selenium\n",
        "#!apt-get update # to update ubuntu to correctly run apt install\n",
        "#!apt install chromium-chromedriver\n",
        "#!cp /usr/lib/chromium-browser/chromedriver /usr/bin\n",
        "import sys\n",
        "import pandas as pd\n",
        "sys.path.insert(0,'/usr/lib/chromium-browser/chromedriver')\n",
        "from selenium import webdriver\n",
        "from selenium.webdriver.chrome.webdriver import WebDriver\n",
        "from selenium.webdriver.common.by import By\n",
        "from selenium.webdriver.support.ui import WebDriverWait\n",
        "from selenium.webdriver.support import expected_conditions as EC\n",
        "from selenium.webdriver.support.ui import Select\n",
        "from selenium.webdriver.common.keys import Keys\n",
        "\n",
        "#outfile = open(\"Output.txt\", \"w\")\n",
        "output_set = pd.DataFrame()\n",
        "\n",
        "options = webdriver.ChromeOptions()\n",
        "options.add_argument('--headless')\n",
        "options.add_argument('--no-sandbox')\n",
        "options.add_argument('--disable-dev-shm-usage')\n",
        "# open it, go to a website, and get results\n",
        "wd = webdriver.Chrome('chromedriver',options=options)\n",
        "wd.get('https://egov.uscis.gov/processing-times')\n",
        "#print(wd.page_source)  # results"
      ],
      "execution_count": 10,
      "outputs": []
    },
    {
      "cell_type": "code",
      "metadata": {
        "id": "FALjOoZOgfwr"
      },
      "source": [
        "import selenium.webdriver.support.ui as UI\n",
        "\n",
        "select_box = UI.Select(wd.find_element_by_xpath(\"/html/body/div/div[5]/div[3]/div/div/div[1]/div[2]/div/div/select\"))\n",
        "select_box.select_by_visible_text('I-485 | Application to Register Permanent Residence or Adjust Status')\n",
        "# To print all dropdown options\n",
        "#select_box = UI.Select(wd.find_element_by_xpath(\"/html/body/div/div[5]/div[3]/div/div/div[1]/div[2]/div/div/select\"))\n",
        "#for option in select_box.options:\n",
        "#        print(option.text)\n",
        "\n"
      ],
      "execution_count": 11,
      "outputs": []
    },
    {
      "cell_type": "code",
      "metadata": {
        "id": "JyL9YY9hoMYz"
      },
      "source": [
        "def Check_iteratively (center, option):\n",
        "  center.select_by_visible_text(option)\n",
        "  submit_button = wd.find_element_by_xpath(\"/html/body/div/div[5]/div[3]/div/div/div[1]/div[4]/div/div/a\").click()\n",
        "  sleep(5)\n",
        "  #table = wd.find_element_by_xpath('/html/body/div/div[5]/div[3]/div/div/div[2]/div/span/div/div[4]/ol')\n",
        "  rows = wd.find_elements_by_class_name('tableRow')\n",
        "  for row in rows:\n",
        "    cols = row.find_elements_by_class_name('tableCell')\n",
        "    #print (option + \"   \" + cols[1].text)\n",
        "    if \"Family\" in cols[1].text:\n",
        "        #print (\"Found \" + option)\n",
        "        global output_set\n",
        "        new_row = {'City':option, 'Processing Time':cols[0].text, 'Type':cols[1].text, 'Current Month':cols[2].text}\n",
        "        #outfile.write (\"In \" + option + \" \" + cols[0].text + \" processing time for \" + cols[1].text + \". Currently processing = \" + cols[2].text + \"\\n\")\n",
        "        output_set = output_set.append(new_row, ignore_index = True)"
      ],
      "execution_count": 14,
      "outputs": []
    },
    {
      "cell_type": "code",
      "metadata": {
        "id": "5uwoqXq7kx6O"
      },
      "source": [
        "from time import sleep\n",
        "#sleep(5)\n",
        "\n",
        "select_center = UI.Select(wd.find_element_by_xpath(\"/html/body/div/div[5]/div[3]/div/div/div[1]/div[3]/div/div/select\"))\n",
        "#option = select_box.options\n",
        "\n",
        "for option in select_center.options:\n",
        "  #print (option.text)\n",
        "  Check_iteratively (select_center, option.text)\n",
        "\n",
        "#outfile.close()\n",
        "#outfile = open(\"Output.txt\", \"r\")\n",
        "#print (outfile.read())\n",
        "#outfile.close()"
      ],
      "execution_count": 15,
      "outputs": []
    },
    {
      "cell_type": "code",
      "metadata": {
        "colab": {
          "base_uri": "https://localhost:8080/"
        },
        "id": "0N_9O04om2g1",
        "outputId": "8f7f42ae-8703-497d-dc8c-c75695ebef31"
      },
      "source": [
        "pd.set_option('display.max_columns', None)\n",
        "pd.set_option('display.max_rows', None)\n",
        "output_set['Current Month'] = pd.to_datetime(output_set['Current Month'])\n",
        "new = output_set.sort_values(by=['Current Month'], ascending=False)\n",
        "#output_set.sort('Current Month')\n",
        "#print(output_set[['City','Current Month','Processing Time']])\n",
        "print(new[['City','Current Month','Processing Time']])"
      ],
      "execution_count": 26,
      "outputs": [
        {
          "output_type": "stream",
          "text": [
            "                       City Current Month               Processing Time\n",
            "28             Harlingen TX    2020-02-08       8 Months to 15.5 Months\n",
            "23               El Paso TX    2020-01-21         8 Months to 16 Months\n",
            "14               Chicago IL    2019-12-19        11 Months to 17 Months\n",
            "62               Phoenix AZ    2019-12-06    12.5 Months to 17.5 Months\n",
            "46               Memphis TN    2019-11-28      10 Months to 17.5 Months\n",
            "57          Oakland Park FL    2019-11-23        12 Months to 18 Months\n",
            "22               Detroit MI    2019-11-04    13.5 Months to 18.5 Months\n",
            "74           San Antonio TX    2019-11-01      12 Months to 18.5 Months\n",
            "81             Santa Ana CA    2019-10-21        15 Months to 19 Months\n",
            "19                Dallas TX    2019-10-11        14 Months to 19 Months\n",
            "58         Oklahoma City OK    2019-10-10    12.5 Months to 19.5 Months\n",
            "68               Raleigh NC    2019-10-07       9 Months to 19.5 Months\n",
            "42           Los Angeles CA    2019-10-07    11.5 Months to 19.5 Months\n",
            "26                Fresno CA    2019-10-06      14 Months to 19.5 Months\n",
            "39             Las Vegas NV    2019-10-05    12.5 Months to 19.5 Months\n",
            "76             San Diego CA    2019-09-28      16 Months to 19.5 Months\n",
            "60               Orlando FL    2019-09-18        15 Months to 20 Months\n",
            "86            Washington DC    2019-09-15        13 Months to 20 Months\n",
            "73        Salt Lake City UT    2019-09-09    12.5 Months to 20.5 Months\n",
            "36          Jacksonville FL    2019-08-30      14 Months to 20.5 Months\n",
            "87       West Palm Beach FL    2019-08-26    11.5 Months to 20.5 Months\n",
            "50            Montgomery AL    2019-08-25        13 Months to 21 Months\n",
            "29              Hartford CT    2019-08-24      13.5 Months to 21 Months\n",
            "31               Hialeah FL    2019-08-11       8.5 Months to 21 Months\n",
            "77   San Fernando Valley CA    2019-08-05    14.5 Months to 21.5 Months\n",
            "43    Los Angeles County CA    2019-07-25      13.5 Months to 22 Months\n",
            "49  Minneapolis-St. Paul MN    2019-07-20        14 Months to 22 Months\n",
            "84                 Tampa FL    2019-07-18      13.5 Months to 22 Months\n",
            "13             Charlotte NC    2019-07-15      14.5 Months to 22 Months\n",
            "41           Long Island NY    2019-07-08    15.5 Months to 22.5 Months\n",
            "75        San Bernardino CA    2019-06-30    13.5 Months to 22.5 Months\n",
            "38               Kendall FL    2019-06-11        11 Months to 23 Months\n",
            "53                Newark NJ    2019-05-23      16.5 Months to 24 Months\n",
            "52             Nashville TN    2019-05-06      12 Months to 24.5 Months\n",
            "35          Indianapolis IN    2019-04-27      13 Months to 24.5 Months\n",
            "20                Denver CO    2019-04-16      13.5 Months to 25 Months\n",
            "63            Pittsburgh PA    2019-04-05    13.5 Months to 25.5 Months\n",
            "79              San Jose CA    2019-04-05    13.5 Months to 25.5 Months\n",
            "54           New Orleans LA    2019-04-05    13.5 Months to 25.5 Months\n",
            "88               Wichita KS    2019-04-05    13.5 Months to 25.5 Months\n",
            "85                Tucson AZ    2019-04-05    13.5 Months to 25.5 Months\n",
            "56               Norfolk VA    2019-04-05    13.5 Months to 25.5 Months\n",
            "83               Spokane WA    2019-04-05    13.5 Months to 25.5 Months\n",
            "80              San Juan PR    2019-04-05    13.5 Months to 25.5 Months\n",
            "78         San Francisco CA    2019-04-05    13.5 Months to 25.5 Months\n",
            "59                 Omaha NE    2019-04-05    13.5 Months to 25.5 Months\n",
            "72           Saint Louis MO    2019-04-05    13.5 Months to 25.5 Months\n",
            "71          Saint Albans VT    2019-04-05    13.5 Months to 25.5 Months\n",
            "70            Sacramento CA    2019-04-05    13.5 Months to 25.5 Months\n",
            "69                  Reno NV    2019-04-05    13.5 Months to 25.5 Months\n",
            "66            Providence RI    2019-04-05    13.5 Months to 25.5 Months\n",
            "64              Portland ME    2019-04-05    13.5 Months to 25.5 Months\n",
            "45            Manchester NH    2019-04-05    13.5 Months to 25.5 Months\n",
            "89                Yakima WA    2019-04-05    13.5 Months to 25.5 Months\n",
            "51          Mount Laurel NJ    2019-04-05    13.5 Months to 25.5 Months\n",
            "27                 Greer SC    2019-04-05    13.5 Months to 25.5 Months\n",
            "2                 Albany NY    2019-04-05    13.5 Months to 25.5 Months\n",
            "3            Albuquerque NM    2019-04-05    13.5 Months to 25.5 Months\n",
            "4              Anchorage AK    2019-04-05    13.5 Months to 25.5 Months\n",
            "7                  Boise ID    2019-04-05    13.5 Months to 25.5 Months\n",
            "10               Buffalo NY    2019-04-05    13.5 Months to 25.5 Months\n",
            "11            Charleston SC    2019-04-05    13.5 Months to 25.5 Months\n",
            "12      Charlotte Amalie VI    2019-04-05    13.5 Months to 25.5 Months\n",
            "15         Christiansted VI    2019-04-05    13.5 Months to 25.5 Months\n",
            "16            Cincinnati OH    2019-04-05    13.5 Months to 25.5 Months\n",
            "17             Cleveland OH    2019-04-05    13.5 Months to 25.5 Months\n",
            "18              Columbus OH    2019-04-05    13.5 Months to 25.5 Months\n",
            "24            Fort Myers FL    2019-04-05    13.5 Months to 25.5 Months\n",
            "25            Fort Smith AR    2019-04-05    13.5 Months to 25.5 Months\n",
            "21            Des Moines IA    2019-04-05    13.5 Months to 25.5 Months\n",
            "30                Helena MT    2019-04-05    13.5 Months to 25.5 Months\n",
            "1                  Agana GU    2019-04-05    13.5 Months to 25.5 Months\n",
            "32              Honolulu HI    2019-04-05    13.5 Months to 25.5 Months\n",
            "34              Imperial CA    2019-04-05    13.5 Months to 25.5 Months\n",
            "37           Kansas City MO    2019-04-05    13.5 Months to 25.5 Months\n",
            "48             Milwaukee WI    2019-04-05    13.5 Months to 25.5 Months\n",
            "44            Louisville KY    2019-04-05    13.5 Months to 25.5 Months\n",
            "8                 Boston MA    2019-02-19         9 Months to 27 Months\n",
            "82               Seattle WA    2019-02-19        24 Months to 27 Months\n",
            "61          Philadelphia PA    2019-01-21        13 Months to 28 Months\n",
            "65              Portland OR    2019-01-08    13.5 Months to 28.5 Months\n",
            "33               Houston TX    2018-12-10        18 Months to 29 Months\n",
            "40              Lawrence MA    2018-06-01       8 Months to 35.5 Months\n",
            "47                 Miami FL    2018-05-15      13.5 Months to 36 Months\n",
            "5                Atlanta GA    2018-04-07      17 Months to 37.5 Months\n",
            "55         New York City NY    2018-02-22      14.5 Months to 39 Months\n",
            "9               Brooklyn NY    2017-12-11      19.5 Months to 41 Months\n",
            "6              Baltimore MD    2017-10-30    17.5 Months to 42.5 Months\n",
            "67                Queens NY    2017-07-10    20.5 Months to 46.5 Months\n",
            "0   Nebraska Service Center    1996-11-12  209.5 Months to 294.5 Months\n"
          ],
          "name": "stdout"
        }
      ]
    }
  ]
}